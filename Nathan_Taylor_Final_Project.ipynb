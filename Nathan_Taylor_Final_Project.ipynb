{
  "cells": [
    {
      "cell_type": "markdown",
      "metadata": {
        "id": "view-in-github",
        "colab_type": "text"
      },
      "source": [
        "<a href=\"https://colab.research.google.com/github/JTassinari10/456FinalCNN/blob/main/Nathan_Taylor_Final_Project.ipynb\" target=\"_parent\"><img src=\"https://colab.research.google.com/assets/colab-badge.svg\" alt=\"Open In Colab\"/></a>"
      ]
    },
    {
      "cell_type": "markdown",
      "metadata": {
        "id": "J_pY_p6bKYUb"
      },
      "source": [
        "#Nathan Taylor CECS 456 Final Project\n",
        "Natural Images CNN Classification model"
      ]
    },
    {
      "cell_type": "markdown",
      "metadata": {
        "id": "F8amJGJw8tD8"
      },
      "source": [
        "#Importing libraries"
      ]
    },
    {
      "cell_type": "code",
      "execution_count": null,
      "metadata": {
        "id": "vwVGZXLuKVrB"
      },
      "outputs": [],
      "source": [
        "import tensorflow as tf\n",
        "from tensorflow import keras\n",
        "import sklearn\n",
        "import sklearn.model_selection\n",
        "import cv2\n",
        "import numpy as np\n",
        "import matplotlib as mpl\n",
        "import matplotlib.pyplot as plt\n",
        "from google.colab import drive\n",
        "import os\n",
        "np.random.seed(42)"
      ]
    },
    {
      "cell_type": "markdown",
      "metadata": {
        "id": "G62HUMzs8ywW"
      },
      "source": [
        "#Importing dataset\n",
        "Choose archive.zip downloaded from kaggle"
      ]
    },
    {
      "cell_type": "code",
      "execution_count": null,
      "metadata": {
        "id": "IlVTwANXmjnH"
      },
      "outputs": [],
      "source": [
        "from google.colab import files\n",
        "\n",
        "if \"natural_images\" not in os.listdir(\"./\"):\n",
        "  files.upload()\n",
        "  os.system(\"unzip \\*archive.zip\")\n",
        "  os.system(\"rm archive.zip\")"
      ]
    },
    {
      "cell_type": "code",
      "execution_count": null,
      "metadata": {
        "id": "I391Lsh6FX2o"
      },
      "outputs": [],
      "source": [
        "for directory_name, _, file_names in os.walk(\"/natural_images\"):\n",
        "  for file_name in file_names:\n",
        "    (os.path.join(directory_name, file_name))\n",
        "\n",
        "labels = os.listdir(\"./natural_images\")\n",
        "mapping = {}\n",
        "for i in range(len(labels)):\n",
        "  mapping[labels[i]] = i\n",
        "\n",
        "def resize_image(img):\n",
        "  return cv2.resize(image, (180, 180), interpolation=cv2.INTER_AREA)\n",
        "\n",
        "X_dataset_full = []\n",
        "y_dataset_full = []\n",
        "for label in labels:\n",
        "  path = \"./natural_images/{0}/\".format(label)\n",
        "  image_paths = os.listdir(path)\n",
        "  for image_path in image_paths:\n",
        "    image = cv2.imread(path + image_path)\n",
        "    image = resize_image(image)\n",
        "    X_dataset_full.append(np.array(image))\n",
        "    y_dataset_full.append(mapping[label])"
      ]
    },
    {
      "cell_type": "code",
      "execution_count": null,
      "metadata": {
        "id": "vIji39G6fArz"
      },
      "outputs": [],
      "source": [
        "#Converting dataset to np arrays\n",
        "X_dataset_full = np.array(X_dataset_full)\n",
        "y_dataset_full = np.array(y_dataset_full)\n",
        "#Standardizing data\n",
        "X_dataset_full = X_dataset_full.astype(\"float32\")/255"
      ]
    },
    {
      "cell_type": "code",
      "execution_count": null,
      "metadata": {
        "id": "HISuE8Rzh1GF"
      },
      "outputs": [],
      "source": [
        "#Shuffling data\n",
        "r = np.arange(X_dataset_full.shape[0])\n",
        "np.random.shuffle(r)\n",
        "X = X_dataset_full[r]\n",
        "Y = y_dataset_full[r]"
      ]
    },
    {
      "cell_type": "code",
      "execution_count": null,
      "metadata": {
        "id": "idmHVLJXijKd"
      },
      "outputs": [],
      "source": [
        "#Splitting dataset by giving 33% to testing\n",
        "X_train, X_test, y_train, y_test = sklearn.model_selection.train_test_split(\n",
        "    X, Y, test_size=0.33\n",
        ")"
      ]
    },
    {
      "cell_type": "code",
      "execution_count": null,
      "metadata": {
        "id": "vK_w9ajQF5_h"
      },
      "outputs": [],
      "source": [
        "cnn = tf.keras.models.Sequential() #Initializing the CNN\n",
        "cnn.add(tf.keras.layers.Conv2D(filters=64, kernel_size=5, activation=\"relu\", padding = \"same\", input_shape=[180, 180, 3])) #Convolution 1\n",
        "cnn.add(tf.keras.layers.MaxPool2D(pool_size=2, strides=2)) #Pooling 1\n",
        "cnn.add(tf.keras.layers.Conv2D(filters=128, kernel_size=3, activation=\"relu\", padding = \"same\")) #Convolution 2\n",
        "cnn.add(tf.keras.layers.Conv2D(filters=128, kernel_size=3, activation=\"relu\", padding = \"same\")) #Convolution 3\n",
        "cnn.add(tf.keras.layers.MaxPool2D(pool_size=2, strides=2)) #Pooling 2\n",
        "cnn.add(tf.keras.layers.Conv2D(filters=256, kernel_size=3, activation=\"relu\", padding = \"same\")) #Convolution 4\n",
        "cnn.add(tf.keras.layers.Conv2D(filters=256, kernel_size=3, activation=\"relu\", padding = \"same\")) #Convolution 5\n",
        "cnn.add(tf.keras.layers.MaxPool2D(pool_size=2, strides=2)) #Pooling 3\n",
        "tf.keras.layers.Dropout(0.5) #Dropout\n",
        "cnn.add(tf.keras.layers.Flatten()) #Flattening\n",
        "cnn.add(tf.keras.layers.Dense(units=128, activation=\"relu\"))#Full Connection\n",
        "tf.keras.layers.Dropout(0.5) #Dropout\n",
        "cnn.add(tf.keras.layers.Dense(units= 8, activation= \"softmax\"))#Output layer"
      ]
    },
    {
      "cell_type": "code",
      "execution_count": null,
      "metadata": {
        "colab": {
          "base_uri": "https://localhost:8080/"
        },
        "id": "bjhyQD98-rh8",
        "outputId": "74b5ec5a-c86f-401a-a4f2-b2b6f93bef88"
      },
      "outputs": [
        {
          "output_type": "stream",
          "name": "stdout",
          "text": [
            "Model: \"sequential\"\n",
            "_________________________________________________________________\n",
            " Layer (type)                Output Shape              Param #   \n",
            "=================================================================\n",
            " conv2d (Conv2D)             (None, 180, 180, 64)      4864      \n",
            "                                                                 \n",
            " max_pooling2d (MaxPooling2D  (None, 90, 90, 64)       0         \n",
            " )                                                               \n",
            "                                                                 \n",
            " conv2d_1 (Conv2D)           (None, 90, 90, 128)       73856     \n",
            "                                                                 \n",
            " conv2d_2 (Conv2D)           (None, 90, 90, 128)       147584    \n",
            "                                                                 \n",
            " max_pooling2d_1 (MaxPooling  (None, 45, 45, 128)      0         \n",
            " 2D)                                                             \n",
            "                                                                 \n",
            " conv2d_3 (Conv2D)           (None, 45, 45, 256)       295168    \n",
            "                                                                 \n",
            " conv2d_4 (Conv2D)           (None, 45, 45, 256)       590080    \n",
            "                                                                 \n",
            " max_pooling2d_2 (MaxPooling  (None, 22, 22, 256)      0         \n",
            " 2D)                                                             \n",
            "                                                                 \n",
            " flatten (Flatten)           (None, 123904)            0         \n",
            "                                                                 \n",
            " dense (Dense)               (None, 128)               15859840  \n",
            "                                                                 \n",
            " dense_1 (Dense)             (None, 8)                 1032      \n",
            "                                                                 \n",
            "=================================================================\n",
            "Total params: 16,972,424\n",
            "Trainable params: 16,972,424\n",
            "Non-trainable params: 0\n",
            "_________________________________________________________________\n"
          ]
        }
      ],
      "source": [
        "cnn.summary()"
      ]
    },
    {
      "cell_type": "code",
      "execution_count": null,
      "metadata": {
        "id": "VfmTMVKCVmu6"
      },
      "outputs": [],
      "source": [
        "cnn.compile(loss=\"sparse_categorical_crossentropy\",\n",
        "              optimizer=\"adam\",\n",
        "              metrics=[\"accuracy\"])"
      ]
    },
    {
      "cell_type": "code",
      "execution_count": null,
      "metadata": {
        "id": "akqGVfD2WlxQ"
      },
      "outputs": [],
      "source": [
        "#Freeing up some RAM\n",
        "X_dataset_full = 0\n",
        "y_dataset_full = 0"
      ]
    },
    {
      "cell_type": "code",
      "execution_count": null,
      "metadata": {
        "colab": {
          "base_uri": "https://localhost:8080/"
        },
        "id": "j4jrOPzZVpjE",
        "outputId": "bf0ff050-a448-4b81-f8db-ebe69783b527"
      },
      "outputs": [
        {
          "output_type": "stream",
          "name": "stdout",
          "text": [
            "Epoch 1/8\n",
            "42/42 [==============================] - 37s 584ms/step - loss: 1.7226 - accuracy: 0.4213 - val_loss: 0.9003 - val_accuracy: 0.6890\n",
            "Epoch 2/8\n",
            "42/42 [==============================] - 18s 436ms/step - loss: 0.5829 - accuracy: 0.7802 - val_loss: 0.5189 - val_accuracy: 0.7948\n",
            "Epoch 3/8\n",
            "42/42 [==============================] - 18s 440ms/step - loss: 0.3466 - accuracy: 0.8726 - val_loss: 0.4213 - val_accuracy: 0.8229\n",
            "Epoch 4/8\n",
            "42/42 [==============================] - 19s 444ms/step - loss: 0.2504 - accuracy: 0.9017 - val_loss: 0.3585 - val_accuracy: 0.8553\n",
            "Epoch 5/8\n",
            "42/42 [==============================] - 19s 449ms/step - loss: 0.1798 - accuracy: 0.9344 - val_loss: 0.3826 - val_accuracy: 0.8575\n",
            "Epoch 6/8\n",
            "42/42 [==============================] - 19s 453ms/step - loss: 0.1106 - accuracy: 0.9553 - val_loss: 0.4591 - val_accuracy: 0.8510\n",
            "Epoch 7/8\n",
            "42/42 [==============================] - 19s 454ms/step - loss: 0.1372 - accuracy: 0.9531 - val_loss: 0.6223 - val_accuracy: 0.8359\n",
            "Epoch 8/8\n",
            "42/42 [==============================] - 19s 457ms/step - loss: 0.1006 - accuracy: 0.9659 - val_loss: 0.4889 - val_accuracy: 0.8553\n"
          ]
        }
      ],
      "source": [
        "history = cnn.fit(X_train, y_train, batch_size=100, epochs=8, validation_split=0.1)"
      ]
    },
    {
      "cell_type": "markdown",
      "metadata": {
        "id": "N9wsnYJRArZC"
      },
      "source": [
        "#Evaluation"
      ]
    },
    {
      "cell_type": "code",
      "execution_count": null,
      "metadata": {
        "id": "iTBb_GFQNGyf",
        "colab": {
          "base_uri": "https://localhost:8080/"
        },
        "outputId": "2f881984-202e-4997-ab76-9f96583eebbb"
      },
      "outputs": [
        {
          "output_type": "stream",
          "name": "stdout",
          "text": [
            "72/72 [==============================] - 5s 59ms/step - loss: 0.4997 - accuracy: 0.8718\n",
            "Total loss on Testing Set: 0.4997088313102722\n",
            "Accuracy of Testing Set: 0.8717610836029053\n"
          ]
        }
      ],
      "source": [
        "score = cnn.evaluate(X_test, y_test)\n",
        "print('Total loss on Testing Set:', score[0])\n",
        "print('Accuracy of Testing Set:', score[1])"
      ]
    },
    {
      "cell_type": "code",
      "execution_count": null,
      "metadata": {
        "id": "Mn2B3iT6NM0S",
        "colab": {
          "base_uri": "https://localhost:8080/"
        },
        "outputId": "0dcad52a-a1f6-46bc-a6dd-09ecee2b0b1e"
      },
      "outputs": [
        {
          "output_type": "stream",
          "name": "stdout",
          "text": [
            "[2 2 2 2 6 0 6 7 0 4 4 1 1 4 3 4 1 7 1 1]\n",
            "[2 2 5 5 6 0 6 7 5 4 4 1 1 4 3 4 1 7 1 1]\n"
          ]
        }
      ],
      "source": [
        "X_new = X_test[:20]\n",
        "y_pred = np.argmax(cnn.predict(X_new), axis=-1)\n",
        "print(y_pred)\n",
        "print(y_test[:20])"
      ]
    }
  ],
  "metadata": {
    "accelerator": "GPU",
    "colab": {
      "collapsed_sections": [],
      "name": "CECS 456 Final Project.ipynb",
      "provenance": [],
      "include_colab_link": true
    },
    "kernelspec": {
      "display_name": "Python 3",
      "name": "python3"
    },
    "language_info": {
      "name": "python"
    }
  },
  "nbformat": 4,
  "nbformat_minor": 0
}