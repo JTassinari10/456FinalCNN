{
  "nbformat": 4,
  "nbformat_minor": 0,
  "metadata": {
    "colab": {
      "name": "DylanWatsonCNNFinal.ipynb",
      "provenance": [],
      "collapsed_sections": [],
      "machine_shape": "hm",
      "include_colab_link": true
    },
    "kernelspec": {
      "name": "python3",
      "display_name": "Python 3"
    },
    "language_info": {
      "name": "python"
    },
    "accelerator": "GPU"
  },
  "cells": [
    {
      "cell_type": "markdown",
      "metadata": {
        "id": "view-in-github",
        "colab_type": "text"
      },
      "source": [
        "<a href=\"https://colab.research.google.com/github/JTassinari10/456FinalCNN/blob/main/DylanWatsonCNNFinal.ipynb\" target=\"_parent\"><img src=\"https://colab.research.google.com/assets/colab-badge.svg\" alt=\"Open In Colab\"/></a>"
      ]
    },
    {
      "cell_type": "markdown",
      "metadata": {
        "id": "67W7napogxyz"
      },
      "source": [
        "#Setup"
      ]
    },
    {
      "cell_type": "code",
      "source": [
        "! pip install kaggle\n",
        "! mkdir ~/.kaggle\n",
        "! cp kaggle.json ~/.kaggle/\n",
        "! chmod 600 ~/.kaggle/kaggle.json\n",
        "! kaggle datasets download prasunroy/natural-images"
      ],
      "metadata": {
        "colab": {
          "base_uri": "https://localhost:8080/"
        },
        "id": "_JvbGWzov1O_",
        "outputId": "86182d2a-fe3e-4081-e1db-53ca91363439"
      },
      "execution_count": null,
      "outputs": [
        {
          "output_type": "stream",
          "name": "stdout",
          "text": [
            "Requirement already satisfied: kaggle in /usr/local/lib/python3.7/dist-packages (1.5.12)\n",
            "Requirement already satisfied: urllib3 in /usr/local/lib/python3.7/dist-packages (from kaggle) (1.24.3)\n",
            "Requirement already satisfied: six>=1.10 in /usr/local/lib/python3.7/dist-packages (from kaggle) (1.15.0)\n",
            "Requirement already satisfied: tqdm in /usr/local/lib/python3.7/dist-packages (from kaggle) (4.64.0)\n",
            "Requirement already satisfied: python-dateutil in /usr/local/lib/python3.7/dist-packages (from kaggle) (2.8.2)\n",
            "Requirement already satisfied: requests in /usr/local/lib/python3.7/dist-packages (from kaggle) (2.23.0)\n",
            "Requirement already satisfied: python-slugify in /usr/local/lib/python3.7/dist-packages (from kaggle) (6.1.2)\n",
            "Requirement already satisfied: certifi in /usr/local/lib/python3.7/dist-packages (from kaggle) (2021.10.8)\n",
            "Requirement already satisfied: text-unidecode>=1.3 in /usr/local/lib/python3.7/dist-packages (from python-slugify->kaggle) (1.3)\n",
            "Requirement already satisfied: chardet<4,>=3.0.2 in /usr/local/lib/python3.7/dist-packages (from requests->kaggle) (3.0.4)\n",
            "Requirement already satisfied: idna<3,>=2.5 in /usr/local/lib/python3.7/dist-packages (from requests->kaggle) (2.10)\n",
            "Downloading natural-images.zip to /content\n",
            " 96% 330M/342M [00:01<00:00, 191MB/s]\n",
            "100% 342M/342M [00:01<00:00, 202MB/s]\n"
          ]
        }
      ]
    },
    {
      "cell_type": "code",
      "source": [
        "! unzip /content/natural-images.zip"
      ],
      "metadata": {
        "id": "NiFymnVnwLmC"
      },
      "execution_count": null,
      "outputs": []
    },
    {
      "cell_type": "code",
      "metadata": {
        "id": "vwVGZXLuKVrB"
      },
      "source": [
        "import tensorflow as tf\n",
        "from tensorflow import keras\n",
        "import sklearn\n",
        "import numpy as np\n",
        "np.random.seed(25)\n",
        "import random"
      ],
      "execution_count": null,
      "outputs": []
    },
    {
      "cell_type": "markdown",
      "metadata": {
        "id": "UXZoaKUsgy_H"
      },
      "source": [
        "# Load a dataset"
      ]
    },
    {
      "cell_type": "code",
      "source": [
        "labels = ['airplane', 'car', 'cat', 'dog', 'flower', 'fruit', 'motorbike', 'person']\n",
        "x_data = []\n",
        "y_data = []\n",
        "import cv2\n",
        "import os\n",
        "for label in labels:\n",
        "  path = '/content/natural_images/{0}/'.format(label)\n",
        "  folder_data = os.listdir(path)\n",
        "  for image_cat in folder_data:\n",
        "    image = cv2.imread(path+image_cat)\n",
        "\n",
        "    image_changed = cv2.resize(image, (180, 180))\n",
        "\n",
        "    x_data.append(np.array(image_changed))\n",
        "    y_data.append(label)\n",
        "\n",
        "x_data = np.array(x_data)\n",
        "y_data = np.array(y_data)"
      ],
      "metadata": {
        "colab": {
          "base_uri": "https://localhost:8080/"
        },
        "id": "cqcbM0k1Eoo_",
        "outputId": "3130797d-f20a-4cc8-f275-f8f41ef768ac"
      },
      "execution_count": null,
      "outputs": [
        {
          "output_type": "stream",
          "name": "stdout",
          "text": [
            "(6899,)\n"
          ]
        }
      ]
    },
    {
      "cell_type": "code",
      "source": [
        "from sklearn.preprocessing import LabelEncoder\n",
        "y_data = LabelEncoder().fit_transform(y_data)"
      ],
      "metadata": {
        "id": "saYpvL5BGRe4"
      },
      "execution_count": null,
      "outputs": []
    },
    {
      "cell_type": "code",
      "source": [
        "#Shuffle data so it is no longer sorted\n",
        "z_data = []\n",
        "for i in range(len(x_data)):\n",
        "  z_data.append((x_data[i], y_data[i]))\n",
        "\n",
        "\n",
        "random.shuffle(z_data)\n",
        "\n",
        "x_data = np.empty((len(x_data), 180, 180, 3), dtype=np.float32)\n",
        "for i in range(len(z_data)):\n",
        "  x_data[i] = z_data[i][0]\n",
        "\n",
        "for i in range(len(z_data)):\n",
        "  y_data[i] = z_data[i][1]\n"
      ],
      "metadata": {
        "id": "rjoppkPZJr4o"
      },
      "execution_count": null,
      "outputs": []
    },
    {
      "cell_type": "markdown",
      "source": [
        "Split Data into Training, Validation, and Test Data"
      ],
      "metadata": {
        "id": "KdeS73JA0Mc4"
      }
    },
    {
      "cell_type": "code",
      "source": [
        "#5:4:1 Split\n",
        "from sklearn.model_selection import train_test_split\n",
        "X_train_full, X_test, y_train_full, y_test = train_test_split(x_data, y_data, test_size = 0.2)\n",
        "X_train = X_train_full[:3450]\n",
        "X_valid = X_train_full[3450:6209]\n",
        "y_train = y_train_full[:3450]\n",
        "y_valid = y_train_full[3450:6209]"
      ],
      "metadata": {
        "id": "5KY5aImZG94j"
      },
      "execution_count": null,
      "outputs": []
    },
    {
      "cell_type": "markdown",
      "metadata": {
        "id": "1FzhyokYgsDL"
      },
      "source": [
        "# Build a neural network model"
      ]
    },
    {
      "cell_type": "code",
      "metadata": {
        "id": "QezSHORhLhCl"
      },
      "source": [
        "cnn = tf.keras.models.Sequential()\n",
        "cnn.add(tf.keras.layers.RandomTranslation((-0.15, 0.15), (-0.15, 0.2), input_shape=[180, 180, 3]))\n",
        "cnn.add(tf.keras.layers.Conv2D(filters=64, kernel_size=3, activation=\"relu\", padding = \"same\", \n",
        "                               input_shape=[180, 180, 3]))\n",
        "cnn.add(tf.keras.layers.MaxPool2D(pool_size=2, strides=2))\n",
        "cnn.add(tf.keras.layers.Conv2D(filters=128, kernel_size=3, activation=\"relu\", padding = \"same\"))\n",
        "cnn.add(tf.keras.layers.Conv2D(filters=128, kernel_size=3, activation=\"relu\", padding = \"same\"))\n",
        "cnn.add(tf.keras.layers.MaxPool2D(pool_size=2, strides=2))\n",
        "cnn.add(tf.keras.layers.Conv2D(filters=256, kernel_size=3, activation=\"relu\", padding = \"same\"))\n",
        "cnn.add(tf.keras.layers.Conv2D(filters=256, kernel_size=3, activation=\"relu\", padding = \"same\"))\n",
        "cnn.add(tf.keras.layers.MaxPool2D(pool_size=2, strides=2))\n",
        "cnn.add(tf.keras.layers.Conv2D(filters=320, kernel_size=3, activation=\"relu\", padding = \"same\"))\n",
        "cnn.add(tf.keras.layers.Conv2D(filters=320, kernel_size=3, activation=\"relu\", padding = \"same\"))\n",
        "cnn.add(tf.keras.layers.MaxPool2D(pool_size=2, strides=2))\n",
        "cnn.add(tf.keras.layers.Flatten())\n",
        "cnn.add(tf.keras.layers.Dense(units=128, activation=\"relu\"))\n",
        "tf.keras.layers.Dropout(0.25)\n",
        "cnn.add(tf.keras.layers.Dense(units=64, activation=\"relu\"))\n",
        "tf.keras.layers.Dropout(0.25)\n",
        "cnn.add(tf.keras.layers.Dense(units=8, activation= \"softmax\"))"
      ],
      "execution_count": null,
      "outputs": []
    },
    {
      "cell_type": "code",
      "metadata": {
        "colab": {
          "base_uri": "https://localhost:8080/"
        },
        "id": "KXnLlnnyMBTp",
        "outputId": "5f2ce750-04bb-4670-de9b-c8e488e0745c"
      },
      "source": [
        "cnn.summary()"
      ],
      "execution_count": null,
      "outputs": [
        {
          "output_type": "stream",
          "name": "stdout",
          "text": [
            "Model: \"sequential\"\n",
            "_________________________________________________________________\n",
            " Layer (type)                Output Shape              Param #   \n",
            "=================================================================\n",
            " random_translation (RandomT  (None, 180, 180, 3)      0         \n",
            " ranslation)                                                     \n",
            "                                                                 \n",
            " conv2d (Conv2D)             (None, 180, 180, 64)      1792      \n",
            "                                                                 \n",
            " max_pooling2d (MaxPooling2D  (None, 90, 90, 64)       0         \n",
            " )                                                               \n",
            "                                                                 \n",
            " conv2d_1 (Conv2D)           (None, 90, 90, 128)       73856     \n",
            "                                                                 \n",
            " conv2d_2 (Conv2D)           (None, 90, 90, 128)       147584    \n",
            "                                                                 \n",
            " max_pooling2d_1 (MaxPooling  (None, 45, 45, 128)      0         \n",
            " 2D)                                                             \n",
            "                                                                 \n",
            " conv2d_3 (Conv2D)           (None, 45, 45, 256)       295168    \n",
            "                                                                 \n",
            " conv2d_4 (Conv2D)           (None, 45, 45, 256)       590080    \n",
            "                                                                 \n",
            " max_pooling2d_2 (MaxPooling  (None, 22, 22, 256)      0         \n",
            " 2D)                                                             \n",
            "                                                                 \n",
            " conv2d_5 (Conv2D)           (None, 22, 22, 320)       737600    \n",
            "                                                                 \n",
            " conv2d_6 (Conv2D)           (None, 22, 22, 320)       921920    \n",
            "                                                                 \n",
            " max_pooling2d_3 (MaxPooling  (None, 11, 11, 320)      0         \n",
            " 2D)                                                             \n",
            "                                                                 \n",
            " flatten (Flatten)           (None, 38720)             0         \n",
            "                                                                 \n",
            " dense (Dense)               (None, 128)               4956288   \n",
            "                                                                 \n",
            " dense_1 (Dense)             (None, 64)                8256      \n",
            "                                                                 \n",
            " dense_2 (Dense)             (None, 8)                 520       \n",
            "                                                                 \n",
            "=================================================================\n",
            "Total params: 7,733,064\n",
            "Trainable params: 7,733,064\n",
            "Non-trainable params: 0\n",
            "_________________________________________________________________\n"
          ]
        }
      ]
    },
    {
      "cell_type": "markdown",
      "metadata": {
        "id": "5er4wrp2-tYA"
      },
      "source": [
        "#compiling the model:\n"
      ]
    },
    {
      "cell_type": "code",
      "metadata": {
        "id": "h2IXCeuZMO5c"
      },
      "source": [
        "cnn.compile(loss=\"sparse_categorical_crossentropy\",\n",
        "              optimizer=\"adam\",\n",
        "              metrics=[\"accuracy\"])"
      ],
      "execution_count": null,
      "outputs": []
    },
    {
      "cell_type": "markdown",
      "metadata": {
        "id": "LZkLlcJ8km8u"
      },
      "source": [
        "# training neural network model:\n"
      ]
    },
    {
      "cell_type": "code",
      "metadata": {
        "colab": {
          "base_uri": "https://localhost:8080/"
        },
        "id": "Qny10xHDMRZO",
        "outputId": "89ba9d3e-4cf7-49b0-8199-834326d5f66c"
      },
      "source": [
        "history = cnn.fit(X_train, y_train, batch_size = 100, epochs=20, validation_data=(X_valid, y_valid))"
      ],
      "execution_count": null,
      "outputs": [
        {
          "output_type": "stream",
          "name": "stdout",
          "text": [
            "Epoch 1/20\n",
            "35/35 [==============================] - 38s 773ms/step - loss: 7.1975 - accuracy: 0.2064 - val_loss: 1.7703 - val_accuracy: 0.3209\n",
            "Epoch 2/20\n",
            "35/35 [==============================] - 19s 556ms/step - loss: 1.7249 - accuracy: 0.3733 - val_loss: 1.4253 - val_accuracy: 0.5379\n",
            "Epoch 3/20\n",
            "35/35 [==============================] - 19s 559ms/step - loss: 1.1569 - accuracy: 0.5817 - val_loss: 1.2449 - val_accuracy: 0.7023\n",
            "Epoch 4/20\n",
            "35/35 [==============================] - 20s 561ms/step - loss: 0.9714 - accuracy: 0.6539 - val_loss: 0.6390 - val_accuracy: 0.7733\n",
            "Epoch 5/20\n",
            "35/35 [==============================] - 20s 564ms/step - loss: 0.7608 - accuracy: 0.7278 - val_loss: 0.5421 - val_accuracy: 0.8163\n",
            "Epoch 6/20\n",
            "35/35 [==============================] - 20s 567ms/step - loss: 0.6566 - accuracy: 0.7652 - val_loss: 0.5170 - val_accuracy: 0.8144\n",
            "Epoch 7/20\n",
            "35/35 [==============================] - 20s 571ms/step - loss: 0.5704 - accuracy: 0.7904 - val_loss: 0.4151 - val_accuracy: 0.8453\n",
            "Epoch 8/20\n",
            "35/35 [==============================] - 20s 571ms/step - loss: 0.5457 - accuracy: 0.7988 - val_loss: 0.4812 - val_accuracy: 0.8260\n",
            "Epoch 9/20\n",
            "35/35 [==============================] - 20s 573ms/step - loss: 0.4947 - accuracy: 0.8159 - val_loss: 0.3698 - val_accuracy: 0.8574\n",
            "Epoch 10/20\n",
            "35/35 [==============================] - 20s 573ms/step - loss: 0.4235 - accuracy: 0.8371 - val_loss: 0.4570 - val_accuracy: 0.8357\n",
            "Epoch 11/20\n",
            "35/35 [==============================] - 20s 574ms/step - loss: 0.3936 - accuracy: 0.8528 - val_loss: 0.4331 - val_accuracy: 0.8444\n",
            "Epoch 12/20\n",
            "35/35 [==============================] - 20s 576ms/step - loss: 0.3873 - accuracy: 0.8606 - val_loss: 0.3491 - val_accuracy: 0.8739\n",
            "Epoch 13/20\n",
            "35/35 [==============================] - 20s 577ms/step - loss: 0.3499 - accuracy: 0.8748 - val_loss: 0.3379 - val_accuracy: 0.8734\n",
            "Epoch 14/20\n",
            "35/35 [==============================] - 20s 576ms/step - loss: 0.3864 - accuracy: 0.8557 - val_loss: 0.3273 - val_accuracy: 0.8826\n",
            "Epoch 15/20\n",
            "35/35 [==============================] - 20s 577ms/step - loss: 0.3352 - accuracy: 0.8768 - val_loss: 0.4191 - val_accuracy: 0.8569\n",
            "Epoch 16/20\n",
            "35/35 [==============================] - 20s 577ms/step - loss: 0.2896 - accuracy: 0.8907 - val_loss: 0.3481 - val_accuracy: 0.8792\n",
            "Epoch 17/20\n",
            "35/35 [==============================] - 20s 577ms/step - loss: 0.2991 - accuracy: 0.8855 - val_loss: 0.3137 - val_accuracy: 0.8806\n",
            "Epoch 18/20\n",
            "35/35 [==============================] - 20s 578ms/step - loss: 0.2632 - accuracy: 0.9014 - val_loss: 0.2643 - val_accuracy: 0.8966\n",
            "Epoch 19/20\n",
            "35/35 [==============================] - 20s 579ms/step - loss: 0.2662 - accuracy: 0.9003 - val_loss: 0.3064 - val_accuracy: 0.8826\n",
            "Epoch 20/20\n",
            "35/35 [==============================] - 20s 579ms/step - loss: 0.2335 - accuracy: 0.9145 - val_loss: 0.2708 - val_accuracy: 0.8966\n"
          ]
        }
      ]
    },
    {
      "cell_type": "markdown",
      "metadata": {
        "id": "Y7uFkB5YkqDU"
      },
      "source": [
        "#Evaluation\n",
        "\n"
      ]
    },
    {
      "cell_type": "code",
      "metadata": {
        "id": "iTBb_GFQNGyf",
        "colab": {
          "base_uri": "https://localhost:8080/"
        },
        "outputId": "fcc9d60b-f82b-4e3e-fd31-3d1176ac3c51"
      },
      "source": [
        "score = cnn.evaluate(X_test, y_test)"
      ],
      "execution_count": null,
      "outputs": [
        {
          "output_type": "stream",
          "name": "stdout",
          "text": [
            "44/44 [==============================] - 4s 66ms/step - loss: 0.2587 - accuracy: 0.9072\n"
          ]
        }
      ]
    },
    {
      "cell_type": "code",
      "metadata": {
        "id": "3kGK94mIZ7qO",
        "colab": {
          "base_uri": "https://localhost:8080/"
        },
        "outputId": "502020d8-f571-4329-cc74-5cbcc2d29b68"
      },
      "source": [
        "print('Total loss on Testing Set:', score[0])"
      ],
      "execution_count": null,
      "outputs": [
        {
          "output_type": "stream",
          "name": "stdout",
          "text": [
            "Total loss on Testing Set: 0.3226054012775421\n"
          ]
        }
      ]
    },
    {
      "cell_type": "code",
      "metadata": {
        "id": "H6NUJ-FGnVTY",
        "colab": {
          "base_uri": "https://localhost:8080/"
        },
        "outputId": "29946587-ee7d-44c3-e9b4-dace1d9f4068"
      },
      "source": [
        "print('Accuracy of Testing Set:', score[1])"
      ],
      "execution_count": null,
      "outputs": [
        {
          "output_type": "stream",
          "name": "stdout",
          "text": [
            "Accuracy of Testing Set: 0.9057971239089966\n"
          ]
        }
      ]
    }
  ]
}