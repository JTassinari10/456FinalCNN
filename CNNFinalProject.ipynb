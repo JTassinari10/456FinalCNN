{
  "cells": [
    {
      "cell_type": "markdown",
      "metadata": {
        "id": "view-in-github",
        "colab_type": "text"
      },
      "source": [
        "<a href=\"https://colab.research.google.com/github/JTassinari10/456FinalCNN/blob/main/CNNFinalProject.ipynb\" target=\"_parent\"><img src=\"https://colab.research.google.com/assets/colab-badge.svg\" alt=\"Open In Colab\"/></a>"
      ]
    },
    {
      "cell_type": "code",
      "execution_count": 1,
      "metadata": {
        "id": "xfh7t6vj_NGp",
        "colab": {
          "base_uri": "https://localhost:8080/"
        },
        "outputId": "76d94151-70e8-46bd-922e-63e8d69ee473"
      },
      "outputs": [
        {
          "output_type": "stream",
          "name": "stdout",
          "text": [
            "Mounted at /content/gdrive\n"
          ]
        }
      ],
      "source": [
        "from google.colab import drive\n",
        "drive.mount('/content/gdrive')"
      ]
    },
    {
      "cell_type": "code",
      "execution_count": 3,
      "metadata": {
        "colab": {
          "base_uri": "https://localhost:8080/"
        },
        "id": "uXj18wL_vL8Q",
        "outputId": "f7261686-c3ac-42b4-8624-6a6ea69afbc7"
      },
      "outputs": [
        {
          "output_type": "stream",
          "name": "stdout",
          "text": [
            "['motorbike', 'flower', 'cat', 'car', 'person', 'dog', 'airplane', 'fruit']\n"
          ]
        }
      ],
      "source": [
        "import os\n",
        "labels = os.listdir('/content/gdrive/MyDrive/Colab Notebooks/archive/natural_images')\n",
        "\n",
        "print(labels)"
      ]
    },
    {
      "cell_type": "code",
      "execution_count": 4,
      "metadata": {
        "id": "f11Sr9bQZRYx"
      },
      "outputs": [],
      "source": [
        "x_data =[]\n",
        "y_data = []\n",
        "import cv2\n",
        "import numpy as np\n",
        "for label in labels:\n",
        "    path = '/content/gdrive/MyDrive/Colab Notebooks/archive/natural_images/{0}/'.format(label)\n",
        "    folder_data = os.listdir(path)\n",
        "    for image_cat in folder_data:\n",
        "        image = cv2.imread(path+image_cat)\n",
        "\n",
        "        image_changed = cv2.resize(image, (100,100))\n",
        " \n",
        "        x_data.append(np.array(image_changed))\n",
        "        y_data.append(label)"
      ]
    },
    {
      "cell_type": "code",
      "execution_count": 5,
      "metadata": {
        "colab": {
          "base_uri": "https://localhost:8080/"
        },
        "id": "jkZMEUurJe1o",
        "outputId": "6de602f0-9b90-4e9c-b7bc-c46b85b01f32"
      },
      "outputs": [
        {
          "output_type": "stream",
          "name": "stdout",
          "text": [
            "the shape of X is:  (6899, 100, 100, 3) and that of Y is:  (6899,)\n"
          ]
        }
      ],
      "source": [
        "x_data = np.array(x_data)\n",
        "y_data = np.array(y_data)\n",
        "print('the shape of X is: ', x_data.shape, 'and that of Y is: ', y_data.shape)"
      ]
    },
    {
      "cell_type": "code",
      "execution_count": 6,
      "metadata": {
        "id": "t72Uz7iLJtC5"
      },
      "outputs": [],
      "source": [
        "#normalize data\n",
        "x_data = x_data.astype('float32')/255"
      ]
    },
    {
      "cell_type": "code",
      "execution_count": 7,
      "metadata": {
        "id": "lJ5tQmUZPx0e"
      },
      "outputs": [],
      "source": [
        "#converting the y_data into categorical:\n",
        "from sklearn.preprocessing import LabelEncoder\n",
        "y_transform = LabelEncoder().fit_transform(y_data)\n",
        "from tensorflow.keras.utils import to_categorical\n",
        "y_categories = to_categorical(y_transform)"
      ]
    },
    {
      "cell_type": "code",
      "execution_count": 8,
      "metadata": {
        "id": "cyErJxAuPL7w"
      },
      "outputs": [],
      "source": [
        "rand = np.arange(x_data.shape[0])\n",
        "np.random.seed(25)\n",
        "np.random.shuffle(rand)\n",
        "X = x_data[rand]\n",
        "Y = y_categories[rand]"
      ]
    },
    {
      "cell_type": "code",
      "execution_count": 9,
      "metadata": {
        "id": "e81YHifIPEwO"
      },
      "outputs": [],
      "source": [
        "from sklearn.model_selection import train_test_split\n",
        "x_train, x_test, y_train, y_test = train_test_split(X, Y, test_size=0.10)"
      ]
    },
    {
      "cell_type": "code",
      "execution_count": 10,
      "metadata": {
        "id": "NAnM7ug42_Gd",
        "colab": {
          "base_uri": "https://localhost:8080/"
        },
        "outputId": "21e1b6a9-7baa-4a57-dc01-4f750309095a"
      },
      "outputs": [
        {
          "output_type": "stream",
          "name": "stdout",
          "text": [
            "Model: \"sequential\"\n",
            "_________________________________________________________________\n",
            " Layer (type)                Output Shape              Param #   \n",
            "=================================================================\n",
            " conv2d (Conv2D)             (None, 100, 100, 32)      2432      \n",
            "                                                                 \n",
            " max_pooling2d (MaxPooling2D  (None, 50, 50, 32)       0         \n",
            " )                                                               \n",
            "                                                                 \n",
            " conv2d_1 (Conv2D)           (None, 50, 50, 64)        18496     \n",
            "                                                                 \n",
            " conv2d_2 (Conv2D)           (None, 50, 50, 64)        36928     \n",
            "                                                                 \n",
            " max_pooling2d_1 (MaxPooling  (None, 25, 25, 64)       0         \n",
            " 2D)                                                             \n",
            "                                                                 \n",
            " conv2d_3 (Conv2D)           (None, 25, 25, 128)       73856     \n",
            "                                                                 \n",
            " conv2d_4 (Conv2D)           (None, 25, 25, 128)       147584    \n",
            "                                                                 \n",
            " max_pooling2d_2 (MaxPooling  (None, 12, 12, 128)      0         \n",
            " 2D)                                                             \n",
            "                                                                 \n",
            " flatten (Flatten)           (None, 18432)             0         \n",
            "                                                                 \n",
            " dense (Dense)               (None, 256)               4718848   \n",
            "                                                                 \n",
            " dropout (Dropout)           (None, 256)               0         \n",
            "                                                                 \n",
            " dense_1 (Dense)             (None, 64)                16448     \n",
            "                                                                 \n",
            " dropout_1 (Dropout)         (None, 64)                0         \n",
            "                                                                 \n",
            " dense_2 (Dense)             (None, 8)                 520       \n",
            "                                                                 \n",
            "=================================================================\n",
            "Total params: 5,015,112\n",
            "Trainable params: 5,015,112\n",
            "Non-trainable params: 0\n",
            "_________________________________________________________________\n"
          ]
        }
      ],
      "source": [
        "\n",
        "from keras import models, layers\n",
        "import tensorflow as tf\n",
        "\n",
        "cnnModel = models.Sequential()\n",
        "cnnModel.add(layers.Conv2D(filters=32, kernel_size=5, activation='relu',padding='same', input_shape=x_train.shape[1:])) # Convoluton 1\n",
        "cnnModel.add(layers.MaxPool2D(pool_size=2, strides = 2)) # Pooling 1\n",
        "cnnModel.add(layers.Conv2D(filters=64, kernel_size=3, activation='relu',padding='same')) # Convolution 2\n",
        "cnnModel.add(layers.Conv2D(filters=64, kernel_size=3, activation='relu',padding='same')) # Convolution 3\n",
        "cnnModel.add(layers.MaxPool2D(pool_size=2, strides = 2)) # Pooling 2\n",
        "cnnModel.add(layers.Conv2D(filters=128, kernel_size=3, activation='relu',padding='same')) # Convolution 4\n",
        "cnnModel.add(layers.Conv2D(filters=128, kernel_size=3, activation='relu',padding='same')) # Convolution 5\n",
        "cnnModel.add(layers.MaxPool2D(pool_size=2, strides = 2)) # Pooling 3\n",
        "cnnModel.add(layers.Flatten()) # Flattening\n",
        "cnnModel.add(layers.Dense(256, activation='relu')) # Full Connection\n",
        "cnnModel.add(layers.Dropout(rate=0.5)) # Dropout 1\n",
        "cnnModel.add(tf.keras.layers.Dense(units=64, activation=\"relu\"))#Full Connection2\n",
        "cnnModel.add(layers.Dropout(rate=0.5)) # Dropout 2\n",
        "cnnModel.add(layers.Dense(8, activation='softmax')) # Output\n",
        "\n",
        "\n",
        "cnnModel.compile(loss = \"categorical_crossentropy\",\n",
        "optimizer = \"adam\",\n",
        "metrics = [\"accuracy\"])\n",
        "\n",
        "\n",
        "cnnModel.summary()"
      ]
    },
    {
      "cell_type": "code",
      "execution_count": 11,
      "metadata": {
        "id": "1F1t6Zg5Varn",
        "colab": {
          "base_uri": "https://localhost:8080/"
        },
        "outputId": "15985001-5b79-42dc-dec1-71c9059d3076"
      },
      "outputs": [
        {
          "output_type": "stream",
          "name": "stdout",
          "text": [
            "Epoch 1/20\n",
            "56/56 [==============================] - 16s 84ms/step - loss: 1.5997 - accuracy: 0.3991 - val_loss: 0.8997 - val_accuracy: 0.7053\n",
            "Epoch 2/20\n",
            "56/56 [==============================] - 4s 64ms/step - loss: 0.8916 - accuracy: 0.6902 - val_loss: 0.4651 - val_accuracy: 0.8245\n",
            "Epoch 3/20\n",
            "56/56 [==============================] - 4s 65ms/step - loss: 0.5683 - accuracy: 0.7976 - val_loss: 0.3404 - val_accuracy: 0.8824\n",
            "Epoch 4/20\n",
            "56/56 [==============================] - 4s 65ms/step - loss: 0.4675 - accuracy: 0.8237 - val_loss: 0.3150 - val_accuracy: 0.8824\n",
            "Epoch 5/20\n",
            "56/56 [==============================] - 4s 65ms/step - loss: 0.3918 - accuracy: 0.8468 - val_loss: 0.2995 - val_accuracy: 0.8889\n",
            "Epoch 6/20\n",
            "56/56 [==============================] - 4s 68ms/step - loss: 0.3699 - accuracy: 0.8622 - val_loss: 0.3277 - val_accuracy: 0.8969\n",
            "Epoch 7/20\n",
            "56/56 [==============================] - 4s 65ms/step - loss: 0.2746 - accuracy: 0.8950 - val_loss: 0.2621 - val_accuracy: 0.9034\n",
            "Epoch 8/20\n",
            "56/56 [==============================] - 4s 65ms/step - loss: 0.2475 - accuracy: 0.9046 - val_loss: 0.3098 - val_accuracy: 0.9066\n",
            "Epoch 9/20\n",
            "56/56 [==============================] - 4s 65ms/step - loss: 0.2163 - accuracy: 0.9198 - val_loss: 0.2354 - val_accuracy: 0.9211\n",
            "Epoch 10/20\n",
            "56/56 [==============================] - 4s 66ms/step - loss: 0.2139 - accuracy: 0.9204 - val_loss: 0.2769 - val_accuracy: 0.9147\n",
            "Epoch 11/20\n",
            "56/56 [==============================] - 4s 66ms/step - loss: 0.1818 - accuracy: 0.9318 - val_loss: 0.2935 - val_accuracy: 0.9082\n",
            "Epoch 12/20\n",
            "56/56 [==============================] - 4s 66ms/step - loss: 0.1742 - accuracy: 0.9359 - val_loss: 0.2969 - val_accuracy: 0.9066\n",
            "Epoch 13/20\n",
            "56/56 [==============================] - 4s 66ms/step - loss: 0.1737 - accuracy: 0.9408 - val_loss: 0.2616 - val_accuracy: 0.9211\n",
            "Epoch 14/20\n",
            "56/56 [==============================] - 4s 66ms/step - loss: 0.1670 - accuracy: 0.9404 - val_loss: 0.3070 - val_accuracy: 0.9195\n",
            "Epoch 15/20\n",
            "56/56 [==============================] - 4s 66ms/step - loss: 0.1398 - accuracy: 0.9558 - val_loss: 0.2367 - val_accuracy: 0.9340\n",
            "Epoch 16/20\n",
            "56/56 [==============================] - 4s 66ms/step - loss: 0.1140 - accuracy: 0.9599 - val_loss: 0.2407 - val_accuracy: 0.9259\n",
            "Epoch 17/20\n",
            "56/56 [==============================] - 4s 68ms/step - loss: 0.1048 - accuracy: 0.9660 - val_loss: 0.2987 - val_accuracy: 0.9227\n",
            "Epoch 18/20\n",
            "56/56 [==============================] - 4s 66ms/step - loss: 0.0890 - accuracy: 0.9717 - val_loss: 0.2933 - val_accuracy: 0.9372\n",
            "Epoch 19/20\n",
            "56/56 [==============================] - 4s 66ms/step - loss: 0.0705 - accuracy: 0.9778 - val_loss: 0.3434 - val_accuracy: 0.9227\n",
            "Epoch 20/20\n",
            "56/56 [==============================] - 4s 66ms/step - loss: 0.0888 - accuracy: 0.9717 - val_loss: 0.3603 - val_accuracy: 0.9082\n"
          ]
        }
      ],
      "source": [
        "#fitting the model\n",
        "history = cnnModel.fit(x_train, y_train, batch_size=100, epochs=20, validation_split=0.1)"
      ]
    },
    {
      "cell_type": "code",
      "execution_count": 12,
      "metadata": {
        "id": "LSjS8NyIqB5y",
        "colab": {
          "base_uri": "https://localhost:8080/"
        },
        "outputId": "288ab30e-1449-45bd-e2ef-4d3a9d5fd13e"
      },
      "outputs": [
        {
          "output_type": "stream",
          "name": "stdout",
          "text": [
            "22/22 [==============================] - 1s 16ms/step - loss: 0.2990 - accuracy: 0.9246\n"
          ]
        }
      ],
      "source": [
        "score = cnnModel.evaluate(x_test, y_test)"
      ]
    },
    {
      "cell_type": "code",
      "execution_count": 13,
      "metadata": {
        "id": "Z5xdlYr-qEBF",
        "colab": {
          "base_uri": "https://localhost:8080/"
        },
        "outputId": "0bbd496c-0e49-43f2-d630-fa7f9398cf7d"
      },
      "outputs": [
        {
          "output_type": "stream",
          "name": "stdout",
          "text": [
            "Total loss on Testing Set: 0.29897046089172363\n"
          ]
        }
      ],
      "source": [
        "print('Total loss on Testing Set:', score[0])"
      ]
    },
    {
      "cell_type": "code",
      "execution_count": 14,
      "metadata": {
        "id": "vcnJp2NIqEHn",
        "colab": {
          "base_uri": "https://localhost:8080/"
        },
        "outputId": "b7aaa9f6-f082-40be-e595-6f464fea5461"
      },
      "outputs": [
        {
          "output_type": "stream",
          "name": "stdout",
          "text": [
            "Accuracy of Testing Set: 0.9246376752853394\n"
          ]
        }
      ],
      "source": [
        "print('Accuracy of Testing Set:', score[1])"
      ]
    }
  ],
  "metadata": {
    "accelerator": "GPU",
    "colab": {
      "collapsed_sections": [],
      "name": "CNNFinalProject.ipynb",
      "provenance": [],
      "mount_file_id": "1_bcwV69STMdpYjsWypgIsbkZl8DuVivT",
      "authorship_tag": "ABX9TyN5KN3JkYTq3rUbKTKcfiAI",
      "include_colab_link": true
    },
    "kernelspec": {
      "display_name": "Python 3",
      "name": "python3"
    },
    "language_info": {
      "name": "python"
    }
  },
  "nbformat": 4,
  "nbformat_minor": 0
}