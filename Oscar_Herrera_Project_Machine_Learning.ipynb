{
  "cells": [
    {
      "cell_type": "markdown",
      "metadata": {
        "id": "view-in-github",
        "colab_type": "text"
      },
      "source": [
        "<a href=\"https://colab.research.google.com/github/JTassinari10/456FinalCNN/blob/main/Oscar_Herrera_Project_Machine_Learning.ipynb\" target=\"_parent\"><img src=\"https://colab.research.google.com/assets/colab-badge.svg\" alt=\"Open In Colab\"/></a>"
      ]
    },
    {
      "cell_type": "code",
      "execution_count": 1,
      "metadata": {
        "id": "_XWKeHRS5vxa"
      },
      "outputs": [],
      "source": [
        "#Importing necessary python libraries\n",
        "import tensorflow as tf\n",
        "from tensorflow import keras\n",
        "import sklearn\n",
        "import numpy as np\n",
        "np.random.seed(42)\n",
        "import matplotlib as mpl\n",
        "import matplotlib.pyplot as plt\n",
        "import os\n",
        "import cv2\n"
      ]
    },
    {
      "cell_type": "markdown",
      "metadata": {
        "id": "GndjSln0AtCh"
      },
      "source": [
        "The next following lines will create a connection to kaggle which will allow for direct dowload of the dataset"
      ]
    },
    {
      "cell_type": "code",
      "execution_count": 2,
      "metadata": {
        "id": "nQRNihzj509L"
      },
      "outputs": [],
      "source": [
        "! mkdir ~/.kaggle"
      ]
    },
    {
      "cell_type": "code",
      "execution_count": 3,
      "metadata": {
        "colab": {
          "base_uri": "https://localhost:8080/"
        },
        "id": "CElyEZFP54sv",
        "outputId": "a44d436d-9d2e-4e26-8fa2-86f6bce8e6e6"
      },
      "outputs": [
        {
          "output_type": "stream",
          "name": "stdout",
          "text": [
            "Downloading natural-images.zip to /content\n",
            " 94% 321M/342M [00:01<00:00, 240MB/s]\n",
            "100% 342M/342M [00:01<00:00, 191MB/s]\n"
          ]
        }
      ],
      "source": [
        "! cp kaggle.json ~/.kaggle/             #Uses Kaggle API token\n",
        "! chmod 600 ~/.kaggle/kaggle.json\n",
        "!kaggle datasets download -d prasunroy/natural-images"
      ]
    },
    {
      "cell_type": "code",
      "execution_count": 5,
      "metadata": {
        "id": "y6Fx07lW6Hl5"
      },
      "outputs": [],
      "source": [
        "%%capture \n",
        "!unzip natural-images.zip  #Unzips images from zip folder"
      ]
    },
    {
      "cell_type": "markdown",
      "metadata": {
        "id": "V2ucst6YBjKo"
      },
      "source": [
        "The next lines will convert the Natural images data into the appropriate format to feed into the neural network. \n"
      ]
    },
    {
      "cell_type": "code",
      "execution_count": 6,
      "metadata": {
        "colab": {
          "base_uri": "https://localhost:8080/"
        },
        "id": "M9HA5-1v61i3",
        "outputId": "1cfe8ef5-b88a-4091-a3c7-d9e43da62ccc"
      },
      "outputs": [
        {
          "output_type": "execute_result",
          "data": {
            "text/plain": [
              "(256, 256, 3)"
            ]
          },
          "metadata": {},
          "execution_count": 6
        }
      ],
      "source": [
        "cv2.imread('natural_images/person/person_0928.jpg').shape   # Checks the shape of a single image"
      ]
    },
    {
      "cell_type": "code",
      "execution_count": 7,
      "metadata": {
        "id": "9GS49GRLVZ0V"
      },
      "outputs": [],
      "source": [
        "labels =['airplane','car','cat','dog','flower','fruit','motorbike','person']  #Labels for the images are inputted manually but can also be extracted"
      ]
    },
    {
      "cell_type": "code",
      "execution_count": 8,
      "metadata": {
        "id": "tAV564ttpdyC"
      },
      "outputs": [],
      "source": [
        "X=[]   #Creates 2 variables X and Y which will contain the image in array form and the labels\n",
        "y=[]\n",
        "def New_data():\n",
        "  for category in labels:  \n",
        "    path = os.path.join('/content/data/natural_images',category)  \n",
        "    classes = labels.index(category) \n",
        "    for img in os.listdir(path):  \n",
        "        img_array = cv2.imread(os.path.join(path,img)) \n",
        "        new_array = cv2.resize(img_array, (150, 150))\n",
        "        X.append(new_array)\n",
        "        y.append(classes)\n",
        "New_data()"
      ]
    },
    {
      "cell_type": "code",
      "execution_count": 9,
      "metadata": {
        "id": "5k4gXhyBpwhY"
      },
      "outputs": [],
      "source": [
        "X = np.array(X).reshape(-1, 150, 150, 3)  #Need to convert X into a Numpy array "
      ]
    },
    {
      "cell_type": "code",
      "execution_count": 10,
      "metadata": {
        "colab": {
          "base_uri": "https://localhost:8080/"
        },
        "id": "LWMXYoVkp4Uu",
        "outputId": "a1284ed0-7d37-4107-de56-417b1ae659af"
      },
      "outputs": [
        {
          "output_type": "execute_result",
          "data": {
            "text/plain": [
              "(6899, 150, 150, 3)"
            ]
          },
          "metadata": {},
          "execution_count": 10
        }
      ],
      "source": [
        "X.shape"
      ]
    },
    {
      "cell_type": "code",
      "execution_count": 11,
      "metadata": {
        "colab": {
          "base_uri": "https://localhost:8080/"
        },
        "id": "2cKeu8Ftp89v",
        "outputId": "957ccb64-72fc-4dbc-ec96-a728f2c389f4"
      },
      "outputs": [
        {
          "output_type": "execute_result",
          "data": {
            "text/plain": [
              "array([0, 0, 0, ..., 7, 7, 7])"
            ]
          },
          "metadata": {},
          "execution_count": 11
        }
      ],
      "source": [
        "y=np.array(y)           # y is also converted into Numpy array\n",
        "y"
      ]
    },
    {
      "cell_type": "code",
      "execution_count": 12,
      "metadata": {
        "id": "kNOehqGn5Bqt"
      },
      "outputs": [],
      "source": [
        "from sklearn.preprocessing import LabelEncoder    #Needed to convert the data in y into categorica; \n",
        "y_transf = LabelEncoder().fit_transform(y)\n",
        "from tensorflow.keras.utils import to_categorical\n",
        "y_cat = to_categorical(y_transf)"
      ]
    },
    {
      "cell_type": "code",
      "execution_count": 13,
      "metadata": {
        "id": "7JCzcgeDfWuv"
      },
      "outputs": [],
      "source": [
        "rand=np.arange(X.shape[0])    # Data needs to be shuffled\n",
        "np.random.seed(25)\n",
        "np.random.shuffle(rand)\n",
        "X=X[rand]\n",
        "y=y_cat[rand]"
      ]
    },
    {
      "cell_type": "code",
      "execution_count": 14,
      "metadata": {
        "colab": {
          "base_uri": "https://localhost:8080/"
        },
        "id": "Uyc0c3fyqNgD",
        "outputId": "d1ce5c2c-a22c-456b-ba66-95e4eb7c2621"
      },
      "outputs": [
        {
          "output_type": "execute_result",
          "data": {
            "text/plain": [
              "array([[0., 0., 0., ..., 1., 0., 0.],\n",
              "       [0., 0., 0., ..., 1., 0., 0.],\n",
              "       [0., 0., 0., ..., 0., 0., 1.],\n",
              "       ...,\n",
              "       [0., 0., 0., ..., 0., 0., 1.],\n",
              "       [1., 0., 0., ..., 0., 0., 0.],\n",
              "       [0., 0., 0., ..., 0., 1., 0.]], dtype=float32)"
            ]
          },
          "metadata": {},
          "execution_count": 14
        }
      ],
      "source": [
        "y     # Checking for appropriate format"
      ]
    },
    {
      "cell_type": "markdown",
      "metadata": {
        "id": "b0x4c0hwB367"
      },
      "source": [
        "The next lines divide the data into training, validation and testing\n"
      ]
    },
    {
      "cell_type": "code",
      "execution_count": 15,
      "metadata": {
        "id": "_w6NuLUAfums"
      },
      "outputs": [],
      "source": [
        "from sklearn.model_selection import train_test_split\n",
        "x_train, x_test, y_train, y_test = train_test_split(X,y,test_size=0.1)    #Using 10% as testing"
      ]
    },
    {
      "cell_type": "code",
      "execution_count": 16,
      "metadata": {
        "colab": {
          "base_uri": "https://localhost:8080/"
        },
        "id": "01fOkeGUg_9E",
        "outputId": "5809b4ac-9734-4680-d4e1-074ca28b9ceb"
      },
      "outputs": [
        {
          "output_type": "execute_result",
          "data": {
            "text/plain": [
              "(6209, 150, 150, 3)"
            ]
          },
          "metadata": {},
          "execution_count": 16
        }
      ],
      "source": [
        "x_train.shape     "
      ]
    },
    {
      "cell_type": "code",
      "execution_count": 17,
      "metadata": {
        "colab": {
          "base_uri": "https://localhost:8080/"
        },
        "id": "JwzW6Mq0q_Yw",
        "outputId": "01f163d5-e816-4243-b983-bce41a3d9c85"
      },
      "outputs": [
        {
          "output_type": "execute_result",
          "data": {
            "text/plain": [
              "6209"
            ]
          },
          "metadata": {},
          "execution_count": 17
        }
      ],
      "source": [
        "len(y_train)"
      ]
    },
    {
      "cell_type": "code",
      "execution_count": 18,
      "metadata": {
        "id": "U1McYHsL0gQK"
      },
      "outputs": [],
      "source": [
        "x_train, x_valid = x_train[:-690], x_train[-690:]     #Creation of Validation set which will also be 10%\n",
        "y_train, y_valid = y_train[:-690], y_train[-690:]"
      ]
    },
    {
      "cell_type": "code",
      "execution_count": 19,
      "metadata": {
        "colab": {
          "base_uri": "https://localhost:8080/"
        },
        "id": "RIfjx-p61F6o",
        "outputId": "55661729-1cb1-4221-d2b3-7f3d3f02eed9"
      },
      "outputs": [
        {
          "output_type": "execute_result",
          "data": {
            "text/plain": [
              "(5519, 150, 150, 3)"
            ]
          },
          "metadata": {},
          "execution_count": 19
        }
      ],
      "source": [
        "x_train.shape"
      ]
    },
    {
      "cell_type": "code",
      "execution_count": 20,
      "metadata": {
        "colab": {
          "base_uri": "https://localhost:8080/"
        },
        "id": "Wns3h9bE1P6n",
        "outputId": "edb1cb9c-0a1a-493e-c2f1-34fc7ae91e0d"
      },
      "outputs": [
        {
          "output_type": "execute_result",
          "data": {
            "text/plain": [
              "(690, 150, 150, 3)"
            ]
          },
          "metadata": {},
          "execution_count": 20
        }
      ],
      "source": [
        "x_valid.shape"
      ]
    },
    {
      "cell_type": "markdown",
      "metadata": {
        "id": "vmgp0sNkCQd3"
      },
      "source": [
        "The following model is based on the demo from Dr. Zhang on building CNN's"
      ]
    },
    {
      "cell_type": "code",
      "execution_count": 21,
      "metadata": {
        "id": "rlOe19uZgMuD"
      },
      "outputs": [],
      "source": [
        "cnn = tf.keras.models.Sequential( #initializing the CNN\n",
        "[tf.keras.layers.Conv2D(32,(3,3), activation=\"relu\",padding = \"same\",input_shape=x_train.shape[1:]), #Convolution 1\n",
        "tf.keras.layers.MaxPool2D(2,2), #Pooling 1\n",
        "tf.keras.layers.Conv2D(64,(3,3),activation='relu',padding = \"same\"), #Convolution 2\n",
        "tf.keras.layers.Dropout(0.5), #Dropout 1\n",
        "tf.keras.layers.MaxPool2D(2,2), #Pooling 2\n",
        "tf.keras.layers.Flatten(), #Flaterning\n",
        "tf.keras.layers.Dense(units=64, activation=\"relu\"),#Full Connection1\n",
        "tf.keras.layers.Dropout(0.25), #Droput 2\n",
        "tf.keras.layers.Dense(units=8, activation= \"softmax\")])#Output layer"
      ]
    },
    {
      "cell_type": "code",
      "execution_count": 22,
      "metadata": {
        "id": "2nM-bdzxgPsp"
      },
      "outputs": [],
      "source": [
        "cnn.compile(loss=\"categorical_crossentropy\",\n",
        "              optimizer=\"adam\",\n",
        "              metrics=[\"accuracy\"])"
      ]
    },
    {
      "cell_type": "code",
      "execution_count": 23,
      "metadata": {
        "colab": {
          "base_uri": "https://localhost:8080/"
        },
        "id": "Z_mZQL_6zGU7",
        "outputId": "6add4d9a-ec83-4145-c2e6-4d9cd9f8ca5b"
      },
      "outputs": [
        {
          "output_type": "stream",
          "name": "stdout",
          "text": [
            "Model: \"sequential\"\n",
            "_________________________________________________________________\n",
            " Layer (type)                Output Shape              Param #   \n",
            "=================================================================\n",
            " conv2d (Conv2D)             (None, 150, 150, 32)      896       \n",
            "                                                                 \n",
            " max_pooling2d (MaxPooling2D  (None, 75, 75, 32)       0         \n",
            " )                                                               \n",
            "                                                                 \n",
            " conv2d_1 (Conv2D)           (None, 75, 75, 64)        18496     \n",
            "                                                                 \n",
            " dropout (Dropout)           (None, 75, 75, 64)        0         \n",
            "                                                                 \n",
            " max_pooling2d_1 (MaxPooling  (None, 37, 37, 64)       0         \n",
            " 2D)                                                             \n",
            "                                                                 \n",
            " flatten (Flatten)           (None, 87616)             0         \n",
            "                                                                 \n",
            " dense (Dense)               (None, 64)                5607488   \n",
            "                                                                 \n",
            " dropout_1 (Dropout)         (None, 64)                0         \n",
            "                                                                 \n",
            " dense_1 (Dense)             (None, 8)                 520       \n",
            "                                                                 \n",
            "=================================================================\n",
            "Total params: 5,627,400\n",
            "Trainable params: 5,627,400\n",
            "Non-trainable params: 0\n",
            "_________________________________________________________________\n"
          ]
        }
      ],
      "source": [
        "cnn.summary()"
      ]
    },
    {
      "cell_type": "code",
      "execution_count": 24,
      "metadata": {
        "colab": {
          "base_uri": "https://localhost:8080/"
        },
        "id": "ouDLuYoYgT7G",
        "outputId": "9c96d05a-6465-4dfe-e37d-2fc7b18f6074"
      },
      "outputs": [
        {
          "output_type": "stream",
          "name": "stdout",
          "text": [
            "Epoch 1/15\n",
            "111/111 [==============================] - 17s 42ms/step - loss: 42.0843 - accuracy: 0.4869 - val_loss: 0.9839 - val_accuracy: 0.6826\n",
            "Epoch 2/15\n",
            "111/111 [==============================] - 4s 38ms/step - loss: 0.8449 - accuracy: 0.7217 - val_loss: 0.7061 - val_accuracy: 0.7783\n",
            "Epoch 3/15\n",
            "111/111 [==============================] - 4s 37ms/step - loss: 0.5446 - accuracy: 0.8146 - val_loss: 0.6937 - val_accuracy: 0.7855\n",
            "Epoch 4/15\n",
            "111/111 [==============================] - 4s 38ms/step - loss: 0.4162 - accuracy: 0.8639 - val_loss: 0.6726 - val_accuracy: 0.7783\n",
            "Epoch 5/15\n",
            "111/111 [==============================] - 4s 37ms/step - loss: 0.3149 - accuracy: 0.8942 - val_loss: 0.6771 - val_accuracy: 0.7841\n",
            "Epoch 6/15\n",
            "111/111 [==============================] - 4s 37ms/step - loss: 0.3243 - accuracy: 0.9034 - val_loss: 0.8570 - val_accuracy: 0.7609\n",
            "Epoch 7/15\n",
            "111/111 [==============================] - 4s 38ms/step - loss: 0.5235 - accuracy: 0.8384 - val_loss: 0.7580 - val_accuracy: 0.7913\n",
            "Epoch 8/15\n",
            "111/111 [==============================] - 4s 38ms/step - loss: 0.3320 - accuracy: 0.8964 - val_loss: 0.8820 - val_accuracy: 0.8000\n",
            "Epoch 9/15\n",
            "111/111 [==============================] - 4s 37ms/step - loss: 0.2358 - accuracy: 0.9244 - val_loss: 0.7337 - val_accuracy: 0.7957\n",
            "Epoch 10/15\n",
            "111/111 [==============================] - 4s 38ms/step - loss: 0.1703 - accuracy: 0.9455 - val_loss: 0.7992 - val_accuracy: 0.8174\n",
            "Epoch 11/15\n",
            "111/111 [==============================] - 4s 37ms/step - loss: 0.1216 - accuracy: 0.9621 - val_loss: 1.0663 - val_accuracy: 0.7957\n",
            "Epoch 12/15\n",
            "111/111 [==============================] - 4s 37ms/step - loss: 0.1788 - accuracy: 0.9522 - val_loss: 0.9254 - val_accuracy: 0.8174\n",
            "Epoch 13/15\n",
            "111/111 [==============================] - 4s 38ms/step - loss: 0.1613 - accuracy: 0.9514 - val_loss: 0.7552 - val_accuracy: 0.8101\n",
            "Epoch 14/15\n",
            "111/111 [==============================] - 4s 37ms/step - loss: 0.1722 - accuracy: 0.9569 - val_loss: 0.7795 - val_accuracy: 0.8014\n",
            "Epoch 15/15\n",
            "111/111 [==============================] - 4s 38ms/step - loss: 0.1611 - accuracy: 0.9551 - val_loss: 0.7442 - val_accuracy: 0.8217\n"
          ]
        }
      ],
      "source": [
        "history = cnn.fit(x_train, y_train, batch_size = 50, epochs=15, validation_data=(x_valid, y_valid))"
      ]
    },
    {
      "cell_type": "code",
      "execution_count": 25,
      "metadata": {
        "colab": {
          "base_uri": "https://localhost:8080/"
        },
        "id": "GzmQu1y38TLr",
        "outputId": "140ce011-1e3e-49bd-cdbf-797c64157e5a"
      },
      "outputs": [
        {
          "output_type": "stream",
          "name": "stdout",
          "text": [
            "22/22 [==============================] - 1s 16ms/step - loss: 0.5479 - accuracy: 0.8536\n"
          ]
        }
      ],
      "source": [
        "score = cnn.evaluate(x_test, y_test)"
      ]
    },
    {
      "cell_type": "code",
      "execution_count": 26,
      "metadata": {
        "colab": {
          "base_uri": "https://localhost:8080/"
        },
        "id": "JvWjNrb00PrF",
        "outputId": "b961d2aa-1415-418b-9d8f-f93618aa1017"
      },
      "outputs": [
        {
          "output_type": "stream",
          "name": "stdout",
          "text": [
            "Total loss on Testing Set: 0.5479403138160706\n"
          ]
        }
      ],
      "source": [
        "print('Total loss on Testing Set:', score[0])"
      ]
    },
    {
      "cell_type": "code",
      "execution_count": 27,
      "metadata": {
        "id": "vzF1Stpp0QX2",
        "colab": {
          "base_uri": "https://localhost:8080/"
        },
        "outputId": "8466ba7e-3fba-40ee-a350-21a2c9fb4aad"
      },
      "outputs": [
        {
          "output_type": "stream",
          "name": "stdout",
          "text": [
            "Accuracy of Testing Set: 0.8536232113838196\n"
          ]
        }
      ],
      "source": [
        "print('Accuracy of Testing Set:', score[1])"
      ]
    },
    {
      "cell_type": "markdown",
      "source": [
        "Graphical representations of loss and accuracy"
      ],
      "metadata": {
        "id": "IyiVZWs1GYjn"
      }
    },
    {
      "cell_type": "code",
      "source": [
        "#Plot of training and validation accuracy\n",
        "plt.plot(history.history['accuracy'])\n",
        "plt.plot(history.history['val_accuracy'])\n",
        "plt.title('Accuracy')\n",
        "plt.ylabel('accuracy')\n",
        "plt.xlabel('epoch')\n",
        "plt.legend(['Train', 'Validation'], loc='upper left')\n",
        "plt.show()\n"
      ],
      "metadata": {
        "colab": {
          "base_uri": "https://localhost:8080/",
          "height": 295
        },
        "id": "5nVKN9lGSQmI",
        "outputId": "d56c779c-5cf0-40d6-e960-871cf16e7e09"
      },
      "execution_count": 28,
      "outputs": [
        {
          "output_type": "display_data",
          "data": {
            "text/plain": [
              "<Figure size 432x288 with 1 Axes>"
            ],
            "image/png": "[encoded data removed]"
          },
          "metadata": {
            "needs_background": "light"
          }
        }
      ]
    },
    {
      "cell_type": "code",
      "source": [
        "# Plot of training and validation loss\n",
        "ax = plt.gca()\n",
        "ax.set_ylim([0, 1])\n",
        "plt.plot(history.history['loss'])\n",
        "plt.plot(history.history['val_loss'])\n",
        "plt.title('Loss')\n",
        "plt.ylabel('loss')\n",
        "plt.xlabel('epoch')\n",
        "plt.legend(['Train', 'Validation'], loc='upper right')\n",
        "plt.show()\n"
      ],
      "metadata": {
        "colab": {
          "base_uri": "https://localhost:8080/",
          "height": 295
        },
        "id": "WJeeDNpOTVSI",
        "outputId": "c2cb1c35-364f-44d7-bcec-4a237f409a38"
      },
      "execution_count": 29,
      "outputs": [
        {
          "output_type": "display_data",
          "data": {
            "text/plain": [
              "<Figure size 432x288 with 1 Axes>"
            ],
            "image/png": "[encoded data removed]"
          },
          "metadata": {
            "needs_background": "light"
          }
        }
      ]
    }
  ],
  "metadata": {
    "accelerator": "GPU",
    "colab": {
      "name": "Oscar_Herrera_Project_Machine_Learning.ipynb",
      "provenance": [],
      "collapsed_sections": [],
      "authorship_tag": "ABX9TyMRlXXPJqvxXBUDgK7DnNY5",
      "include_colab_link": true
    },
    "kernelspec": {
      "display_name": "Python 3",
      "name": "python3"
    },
    "language_info": {
      "name": "python"
    }
  },
  "nbformat": 4,
  "nbformat_minor": 0
}